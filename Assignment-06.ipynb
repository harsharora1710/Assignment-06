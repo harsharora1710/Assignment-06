{
 "cells": [
  {
   "cell_type": "code",
   "execution_count": 4,
   "id": "41078722-4bab-46ae-bc28-5fa5df8cdebf",
   "metadata": {},
   "outputs": [],
   "source": [
    "#a class is a blueprint or a template that defines the structure and behavior of objects.\n",
    "#An object is an instance of a class.\n",
    "class A:\n",
    "    def show():\n",
    "        print(\"Class A\")"
   ]
  },
  {
   "cell_type": "code",
   "execution_count": 5,
   "id": "ff05be03-311c-4dbc-85f8-fc0817038a65",
   "metadata": {},
   "outputs": [],
   "source": [
    "a=A()"
   ]
  },
  {
   "cell_type": "code",
   "execution_count": 6,
   "id": "d42ff3b4-13fa-4d77-b718-b3476220f25c",
   "metadata": {},
   "outputs": [
    {
     "name": "stdout",
     "output_type": "stream",
     "text": [
      "Class A\n"
     ]
    }
   ],
   "source": [
    "A.show()"
   ]
  },
  {
   "cell_type": "code",
   "execution_count": 7,
   "id": "8d3ae6e6-810d-4d8e-8b2b-9b2d760d0648",
   "metadata": {},
   "outputs": [],
   "source": [
    "#q2)\n",
    "#Encapsulation Inheritance Polymorphism Abstraction"
   ]
  },
  {
   "cell_type": "code",
   "execution_count": 9,
   "id": "fa079e8f-7ddf-40ff-a902-d029b96051dd",
   "metadata": {},
   "outputs": [],
   "source": [
    "#q3)\n",
    "#The __init__() function is a constructor for a class. It is automatically called when an object is created from a class.\n",
    "#The primary purpose of the __init__() function is to initialize the attributes or properties of an object\n",
    "class A:\n",
    "    def __init__(self,a,b):\n",
    "        self.first=a\n",
    "        self.second=b"
   ]
  },
  {
   "cell_type": "code",
   "execution_count": 11,
   "id": "9b37978f-28e8-4d08-8b4d-6b87048de5de",
   "metadata": {},
   "outputs": [],
   "source": [
    "a=A(2,3)"
   ]
  },
  {
   "cell_type": "code",
   "execution_count": 12,
   "id": "ab5fa88c-9354-488c-805c-33b2be8f7b21",
   "metadata": {},
   "outputs": [
    {
     "data": {
      "text/plain": [
       "2"
      ]
     },
     "execution_count": 12,
     "metadata": {},
     "output_type": "execute_result"
    }
   ],
   "source": [
    "a.first"
   ]
  },
  {
   "cell_type": "code",
   "execution_count": 13,
   "id": "c345cc19-8237-483c-b121-a40d70f268f1",
   "metadata": {},
   "outputs": [],
   "source": [
    "#q4)\n",
    "# In OOPs, self is used as a reference to the instance of a class.\n",
    "#The use of self allows instance methods to access and manipulate the attributes and methods of the object to which they belong.\n"
   ]
  },
  {
   "cell_type": "code",
   "execution_count": 14,
   "id": "4b33f8cf-1cbb-466e-8031-5ada589e2e60",
   "metadata": {},
   "outputs": [],
   "source": [
    "#q5)\n",
    "#Inheritance allows a class to inherit properties and behaviors from another class.\n",
    "class A:\n",
    "    def show():\n",
    "        print(\"Class A\")"
   ]
  },
  {
   "cell_type": "code",
   "execution_count": 17,
   "id": "1831dced-59e0-4bea-993c-b9122413c258",
   "metadata": {},
   "outputs": [],
   "source": [
    "#Single level\n",
    "class B(A):\n",
    "    def showB():\n",
    "        print(\"Class B\")"
   ]
  },
  {
   "cell_type": "code",
   "execution_count": 16,
   "id": "bfb565ee-2eb2-40a5-a1e6-2d34abcb6af3",
   "metadata": {},
   "outputs": [],
   "source": [
    "class C(B):\n",
    "    def showC():\n",
    "        print(\"Class C\")"
   ]
  },
  {
   "cell_type": "code",
   "execution_count": null,
   "id": "e2dc9553-0bc9-4e73-be48-3019b1e5a307",
   "metadata": {},
   "outputs": [],
   "source": [
    "class D(A,B):\n",
    "    def showD():\n",
    "        print(\"Class D\")"
   ]
  }
 ],
 "metadata": {
  "kernelspec": {
   "display_name": "Python 3 (ipykernel)",
   "language": "python",
   "name": "python3"
  },
  "language_info": {
   "codemirror_mode": {
    "name": "ipython",
    "version": 3
   },
   "file_extension": ".py",
   "mimetype": "text/x-python",
   "name": "python",
   "nbconvert_exporter": "python",
   "pygments_lexer": "ipython3",
   "version": "3.10.8"
  }
 },
 "nbformat": 4,
 "nbformat_minor": 5
}
